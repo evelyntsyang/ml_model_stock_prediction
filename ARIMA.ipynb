{
 "cells": [
  {
   "cell_type": "code",
   "execution_count": 13,
   "metadata": {},
   "outputs": [
    {
     "name": "stdout",
     "output_type": "stream",
     "text": [
      "Requirement already satisfied: numpy in c:\\users\\evelyn\\anaconda3\\envs\\tf\\lib\\site-packages (1.26.3)\n",
      "Note: you may need to restart the kernel to use updated packages.\n"
     ]
    }
   ],
   "source": [
    "pip install numpy"
   ]
  },
  {
   "cell_type": "code",
   "execution_count": 14,
   "metadata": {},
   "outputs": [
    {
     "name": "stdout",
     "output_type": "stream",
     "text": [
      "Requirement already satisfied: pandas in c:\\users\\evelyn\\anaconda3\\envs\\tf\\lib\\site-packages (2.2.0)\n",
      "Requirement already satisfied: numpy<2,>=1.22.4 in c:\\users\\evelyn\\anaconda3\\envs\\tf\\lib\\site-packages (from pandas) (1.26.3)\n",
      "Requirement already satisfied: python-dateutil>=2.8.2 in c:\\users\\evelyn\\anaconda3\\envs\\tf\\lib\\site-packages (from pandas) (2.8.2)\n",
      "Requirement already satisfied: pytz>=2020.1 in c:\\users\\evelyn\\anaconda3\\envs\\tf\\lib\\site-packages (from pandas) (2023.3.post1)\n",
      "Requirement already satisfied: tzdata>=2022.7 in c:\\users\\evelyn\\anaconda3\\envs\\tf\\lib\\site-packages (from pandas) (2024.1)\n",
      "Requirement already satisfied: six>=1.5 in c:\\users\\evelyn\\anaconda3\\envs\\tf\\lib\\site-packages (from python-dateutil>=2.8.2->pandas) (1.16.0)\n",
      "Note: you may need to restart the kernel to use updated packages.\n"
     ]
    }
   ],
   "source": [
    "pip install pandas"
   ]
  },
  {
   "cell_type": "code",
   "execution_count": 15,
   "metadata": {},
   "outputs": [
    {
     "name": "stdout",
     "output_type": "stream",
     "text": [
      "Requirement already satisfied: tensorflow in c:\\users\\evelyn\\anaconda3\\envs\\tf\\lib\\site-packages (2.10.0)\n",
      "Requirement already satisfied: absl-py>=1.0.0 in c:\\users\\evelyn\\anaconda3\\envs\\tf\\lib\\site-packages (from tensorflow) (1.4.0)\n",
      "Requirement already satisfied: astunparse>=1.6.0 in c:\\users\\evelyn\\anaconda3\\envs\\tf\\lib\\site-packages (from tensorflow) (1.6.3)\n",
      "Requirement already satisfied: flatbuffers>=2.0 in c:\\users\\evelyn\\anaconda3\\envs\\tf\\lib\\site-packages (from tensorflow) (2.0)\n",
      "Requirement already satisfied: gast<=0.4.0,>=0.2.1 in c:\\users\\evelyn\\anaconda3\\envs\\tf\\lib\\site-packages (from tensorflow) (0.4.0)\n",
      "Requirement already satisfied: google-pasta>=0.1.1 in c:\\users\\evelyn\\anaconda3\\envs\\tf\\lib\\site-packages (from tensorflow) (0.2.0)\n",
      "Requirement already satisfied: h5py>=2.9.0 in c:\\users\\evelyn\\anaconda3\\envs\\tf\\lib\\site-packages (from tensorflow) (3.9.0)\n",
      "Requirement already satisfied: keras-preprocessing>=1.1.1 in c:\\users\\evelyn\\anaconda3\\envs\\tf\\lib\\site-packages (from tensorflow) (1.1.2)\n",
      "Requirement already satisfied: libclang>=13.0.0 in c:\\users\\evelyn\\anaconda3\\envs\\tf\\lib\\site-packages (from tensorflow) (16.0.6)\n",
      "Requirement already satisfied: numpy>=1.20 in c:\\users\\evelyn\\anaconda3\\envs\\tf\\lib\\site-packages (from tensorflow) (1.26.3)\n",
      "Requirement already satisfied: opt-einsum>=2.3.2 in c:\\users\\evelyn\\anaconda3\\envs\\tf\\lib\\site-packages (from tensorflow) (3.3.0)\n",
      "Requirement already satisfied: packaging in c:\\users\\evelyn\\anaconda3\\envs\\tf\\lib\\site-packages (from tensorflow) (23.1)\n",
      "Requirement already satisfied: protobuf<3.20,>=3.9.2 in c:\\users\\evelyn\\anaconda3\\envs\\tf\\lib\\site-packages (from tensorflow) (3.19.6)\n",
      "Requirement already satisfied: setuptools in c:\\users\\evelyn\\anaconda3\\envs\\tf\\lib\\site-packages (from tensorflow) (68.2.2)\n",
      "Requirement already satisfied: six>=1.12.0 in c:\\users\\evelyn\\anaconda3\\envs\\tf\\lib\\site-packages (from tensorflow) (1.16.0)\n",
      "Requirement already satisfied: termcolor>=1.1.0 in c:\\users\\evelyn\\anaconda3\\envs\\tf\\lib\\site-packages (from tensorflow) (2.1.0)\n",
      "Requirement already satisfied: typing-extensions>=3.6.6 in c:\\users\\evelyn\\anaconda3\\envs\\tf\\lib\\site-packages (from tensorflow) (4.9.0)\n",
      "Requirement already satisfied: wrapt>=1.11.0 in c:\\users\\evelyn\\anaconda3\\envs\\tf\\lib\\site-packages (from tensorflow) (1.14.1)\n",
      "Requirement already satisfied: tensorflow-io-gcs-filesystem>=0.23.1 in c:\\users\\evelyn\\anaconda3\\envs\\tf\\lib\\site-packages (from tensorflow) (0.31.0)\n",
      "Requirement already satisfied: grpcio<2.0,>=1.24.3 in c:\\users\\evelyn\\anaconda3\\envs\\tf\\lib\\site-packages (from tensorflow) (1.42.0)\n",
      "Requirement already satisfied: tensorboard<2.11,>=2.10 in c:\\users\\evelyn\\anaconda3\\envs\\tf\\lib\\site-packages (from tensorflow) (2.10.0)\n",
      "Requirement already satisfied: tensorflow-estimator<2.11,>=2.10.0 in c:\\users\\evelyn\\anaconda3\\envs\\tf\\lib\\site-packages (from tensorflow) (2.10.0)\n",
      "Requirement already satisfied: keras<2.11,>=2.10.0 in c:\\users\\evelyn\\anaconda3\\envs\\tf\\lib\\site-packages (from tensorflow) (2.10.0)\n",
      "Requirement already satisfied: wheel<1.0,>=0.23.0 in c:\\users\\evelyn\\anaconda3\\envs\\tf\\lib\\site-packages (from astunparse>=1.6.0->tensorflow) (0.41.2)\n",
      "Requirement already satisfied: google-auth<3,>=1.6.3 in c:\\users\\evelyn\\anaconda3\\envs\\tf\\lib\\site-packages (from tensorboard<2.11,>=2.10->tensorflow) (2.6.0)\n",
      "Requirement already satisfied: google-auth-oauthlib<0.5,>=0.4.1 in c:\\users\\evelyn\\anaconda3\\envs\\tf\\lib\\site-packages (from tensorboard<2.11,>=2.10->tensorflow) (0.4.4)\n",
      "Requirement already satisfied: markdown>=2.6.8 in c:\\users\\evelyn\\anaconda3\\envs\\tf\\lib\\site-packages (from tensorboard<2.11,>=2.10->tensorflow) (3.4.1)\n",
      "Requirement already satisfied: requests<3,>=2.21.0 in c:\\users\\evelyn\\anaconda3\\envs\\tf\\lib\\site-packages (from tensorboard<2.11,>=2.10->tensorflow) (2.31.0)\n",
      "Requirement already satisfied: tensorboard-data-server<0.7.0,>=0.6.0 in c:\\users\\evelyn\\anaconda3\\envs\\tf\\lib\\site-packages (from tensorboard<2.11,>=2.10->tensorflow) (0.6.1)\n",
      "Requirement already satisfied: tensorboard-plugin-wit>=1.6.0 in c:\\users\\evelyn\\anaconda3\\envs\\tf\\lib\\site-packages (from tensorboard<2.11,>=2.10->tensorflow) (1.8.1)\n",
      "Requirement already satisfied: werkzeug>=1.0.1 in c:\\users\\evelyn\\anaconda3\\envs\\tf\\lib\\site-packages (from tensorboard<2.11,>=2.10->tensorflow) (2.3.8)\n",
      "Requirement already satisfied: cachetools<6.0,>=2.0.0 in c:\\users\\evelyn\\anaconda3\\envs\\tf\\lib\\site-packages (from google-auth<3,>=1.6.3->tensorboard<2.11,>=2.10->tensorflow) (4.2.2)\n",
      "Requirement already satisfied: pyasn1-modules>=0.2.1 in c:\\users\\evelyn\\anaconda3\\envs\\tf\\lib\\site-packages (from google-auth<3,>=1.6.3->tensorboard<2.11,>=2.10->tensorflow) (0.2.8)\n",
      "Requirement already satisfied: rsa<5,>=3.1.4 in c:\\users\\evelyn\\anaconda3\\envs\\tf\\lib\\site-packages (from google-auth<3,>=1.6.3->tensorboard<2.11,>=2.10->tensorflow) (4.7.2)\n",
      "Requirement already satisfied: requests-oauthlib>=0.7.0 in c:\\users\\evelyn\\anaconda3\\envs\\tf\\lib\\site-packages (from google-auth-oauthlib<0.5,>=0.4.1->tensorboard<2.11,>=2.10->tensorflow) (1.3.0)\n",
      "Requirement already satisfied: importlib-metadata>=4.4 in c:\\users\\evelyn\\anaconda3\\envs\\tf\\lib\\site-packages (from markdown>=2.6.8->tensorboard<2.11,>=2.10->tensorflow) (7.0.1)\n",
      "Requirement already satisfied: charset-normalizer<4,>=2 in c:\\users\\evelyn\\anaconda3\\envs\\tf\\lib\\site-packages (from requests<3,>=2.21.0->tensorboard<2.11,>=2.10->tensorflow) (2.0.4)\n",
      "Requirement already satisfied: idna<4,>=2.5 in c:\\users\\evelyn\\anaconda3\\envs\\tf\\lib\\site-packages (from requests<3,>=2.21.0->tensorboard<2.11,>=2.10->tensorflow) (3.4)\n",
      "Requirement already satisfied: urllib3<3,>=1.21.1 in c:\\users\\evelyn\\anaconda3\\envs\\tf\\lib\\site-packages (from requests<3,>=2.21.0->tensorboard<2.11,>=2.10->tensorflow) (2.1.0)\n",
      "Requirement already satisfied: certifi>=2017.4.17 in c:\\users\\evelyn\\anaconda3\\envs\\tf\\lib\\site-packages (from requests<3,>=2.21.0->tensorboard<2.11,>=2.10->tensorflow) (2024.2.2)\n",
      "Requirement already satisfied: MarkupSafe>=2.1.1 in c:\\users\\evelyn\\anaconda3\\envs\\tf\\lib\\site-packages (from werkzeug>=1.0.1->tensorboard<2.11,>=2.10->tensorflow) (2.1.3)\n",
      "Requirement already satisfied: zipp>=0.5 in c:\\users\\evelyn\\anaconda3\\envs\\tf\\lib\\site-packages (from importlib-metadata>=4.4->markdown>=2.6.8->tensorboard<2.11,>=2.10->tensorflow) (3.17.0)\n",
      "Requirement already satisfied: pyasn1<0.5.0,>=0.4.6 in c:\\users\\evelyn\\anaconda3\\envs\\tf\\lib\\site-packages (from pyasn1-modules>=0.2.1->google-auth<3,>=1.6.3->tensorboard<2.11,>=2.10->tensorflow) (0.4.8)\n",
      "Requirement already satisfied: oauthlib>=3.0.0 in c:\\users\\evelyn\\anaconda3\\envs\\tf\\lib\\site-packages (from requests-oauthlib>=0.7.0->google-auth-oauthlib<0.5,>=0.4.1->tensorboard<2.11,>=2.10->tensorflow) (3.2.2)\n",
      "Note: you may need to restart the kernel to use updated packages.\n"
     ]
    }
   ],
   "source": [
    "pip install tensorflow"
   ]
  },
  {
   "cell_type": "code",
   "execution_count": 16,
   "metadata": {},
   "outputs": [
    {
     "name": "stdout",
     "output_type": "stream",
     "text": [
      "Requirement already satisfied: matplotlib in c:\\users\\evelyn\\anaconda3\\envs\\tf\\lib\\site-packages (3.8.3)\n",
      "Requirement already satisfied: contourpy>=1.0.1 in c:\\users\\evelyn\\anaconda3\\envs\\tf\\lib\\site-packages (from matplotlib) (1.2.0)\n",
      "Requirement already satisfied: cycler>=0.10 in c:\\users\\evelyn\\anaconda3\\envs\\tf\\lib\\site-packages (from matplotlib) (0.12.1)\n",
      "Requirement already satisfied: fonttools>=4.22.0 in c:\\users\\evelyn\\anaconda3\\envs\\tf\\lib\\site-packages (from matplotlib) (4.49.0)\n",
      "Requirement already satisfied: kiwisolver>=1.3.1 in c:\\users\\evelyn\\anaconda3\\envs\\tf\\lib\\site-packages (from matplotlib) (1.4.5)\n",
      "Requirement already satisfied: numpy<2,>=1.21 in c:\\users\\evelyn\\anaconda3\\envs\\tf\\lib\\site-packages (from matplotlib) (1.26.3)\n",
      "Requirement already satisfied: packaging>=20.0 in c:\\users\\evelyn\\anaconda3\\envs\\tf\\lib\\site-packages (from matplotlib) (23.1)\n",
      "Requirement already satisfied: pillow>=8 in c:\\users\\evelyn\\anaconda3\\envs\\tf\\lib\\site-packages (from matplotlib) (10.2.0)\n",
      "Requirement already satisfied: pyparsing>=2.3.1 in c:\\users\\evelyn\\anaconda3\\envs\\tf\\lib\\site-packages (from matplotlib) (3.1.1)\n",
      "Requirement already satisfied: python-dateutil>=2.7 in c:\\users\\evelyn\\anaconda3\\envs\\tf\\lib\\site-packages (from matplotlib) (2.8.2)\n",
      "Requirement already satisfied: importlib-resources>=3.2.0 in c:\\users\\evelyn\\anaconda3\\envs\\tf\\lib\\site-packages (from matplotlib) (6.1.1)\n",
      "Requirement already satisfied: zipp>=3.1.0 in c:\\users\\evelyn\\anaconda3\\envs\\tf\\lib\\site-packages (from importlib-resources>=3.2.0->matplotlib) (3.17.0)\n",
      "Requirement already satisfied: six>=1.5 in c:\\users\\evelyn\\anaconda3\\envs\\tf\\lib\\site-packages (from python-dateutil>=2.7->matplotlib) (1.16.0)\n",
      "Note: you may need to restart the kernel to use updated packages.\n"
     ]
    }
   ],
   "source": [
    "pip install matplotlib"
   ]
  },
  {
   "cell_type": "code",
   "execution_count": 17,
   "metadata": {},
   "outputs": [
    {
     "name": "stdout",
     "output_type": "stream",
     "text": [
      "Requirement already satisfied: pyodbc in c:\\users\\evelyn\\anaconda3\\envs\\tf\\lib\\site-packages (5.1.0)\n",
      "Note: you may need to restart the kernel to use updated packages.\n"
     ]
    }
   ],
   "source": [
    "pip install pyodbc\n"
   ]
  },
  {
   "cell_type": "code",
   "execution_count": 18,
   "metadata": {},
   "outputs": [],
   "source": [
    "import pandas as pd\n",
    "import numpy as np\n",
    "%matplotlib inline\n",
    "import matplotlib. pyplot as plt\n",
    "import matplotlib\n",
    "import pyodbc\n",
    "from sklearn import preprocessing\n",
    "from sklearn.preprocessing import MinMaxScaler\n",
    "from sklearn.model_selection import TimeSeriesSplit\n",
    "from sklearn.metrics import mean_squared_error, r2_score\n",
    "import matplotlib. dates as mandates\n",
    "from sklearn import linear_model\n",
    "\n",
    "from keras. layers import LSTM, Dense, Dropout\n",
    "from keras. models import Sequential\n",
    "from keras. layers import Dense\n",
    "import keras. backend as K\n",
    "from keras. callbacks import EarlyStopping\n",
    "from keras. models import load_model\n",
    "from keras. layers import LSTM\n",
    "from keras. utils.vis_utils import plot_model\n",
    "from keras.optimizers import Adam\n"
   ]
  },
  {
   "cell_type": "code",
   "execution_count": 19,
   "metadata": {},
   "outputs": [
    {
     "name": "stdout",
     "output_type": "stream",
     "text": [
      "Requirement already satisfied: scikit-learn in c:\\users\\evelyn\\anaconda3\\envs\\tf\\lib\\site-packages (1.4.1.post1)\n",
      "Requirement already satisfied: numpy<2.0,>=1.19.5 in c:\\users\\evelyn\\anaconda3\\envs\\tf\\lib\\site-packages (from scikit-learn) (1.26.3)\n",
      "Requirement already satisfied: scipy>=1.6.0 in c:\\users\\evelyn\\anaconda3\\envs\\tf\\lib\\site-packages (from scikit-learn) (1.11.4)\n",
      "Requirement already satisfied: joblib>=1.2.0 in c:\\users\\evelyn\\anaconda3\\envs\\tf\\lib\\site-packages (from scikit-learn) (1.3.2)\n",
      "Requirement already satisfied: threadpoolctl>=2.0.0 in c:\\users\\evelyn\\anaconda3\\envs\\tf\\lib\\site-packages (from scikit-learn) (3.3.0)\n",
      "Note: you may need to restart the kernel to use updated packages.\n"
     ]
    }
   ],
   "source": [
    "pip install scikit-learn"
   ]
  },
  {
   "cell_type": "code",
   "execution_count": 20,
   "metadata": {},
   "outputs": [
    {
     "name": "stdout",
     "output_type": "stream",
     "text": [
      "Requirement already satisfied: Keras in c:\\users\\evelyn\\anaconda3\\envs\\tf\\lib\\site-packages (2.10.0)\n",
      "Note: you may need to restart the kernel to use updated packages.\n"
     ]
    }
   ],
   "source": [
    "pip install Keras\n"
   ]
  },
  {
   "cell_type": "code",
   "execution_count": 21,
   "metadata": {},
   "outputs": [
    {
     "name": "stderr",
     "output_type": "stream",
     "text": [
      "C:\\Users\\Evelyn\\AppData\\Local\\Temp\\ipykernel_31864\\4071412966.py:12: UserWarning: pandas only supports SQLAlchemy connectable (engine/connection) or database string URI or sqlite3 DBAPI2 connection. Other DBAPI2 objects are not tested. Please consider using SQLAlchemy.\n",
      "  clean_df = pd.read_sql(query_price, conn)\n"
     ]
    }
   ],
   "source": [
    "#get the view table from SQL\n",
    "# Define the connection details\n",
    "server = 'stocksserver.database.windows.net' \n",
    "database = 'stockdb' \n",
    "username = 'Evelyn'\n",
    "password = 'Apple2327'\n",
    "\n",
    "# Establish the connection\n",
    "conn = pyodbc.connect('DRIVER={SQL Server};SERVER='+server+';DATABASE='+database+';UID='+username+';PWD='+ password)\n",
    "query_price = \"SELECT * FROM Daily_Price;\"\n",
    "# Execute the query and create a DataFrame\n",
    "clean_df = pd.read_sql(query_price, conn)\n",
    "\n",
    "# Don't forget to close the connection when done\n",
    "conn.close()\n",
    "\n",
    "\n",
    "\n",
    "\n"
   ]
  },
  {
   "cell_type": "code",
   "execution_count": 22,
   "metadata": {},
   "outputs": [
    {
     "data": {
      "text/html": [
       "<div>\n",
       "<style scoped>\n",
       "    .dataframe tbody tr th:only-of-type {\n",
       "        vertical-align: middle;\n",
       "    }\n",
       "\n",
       "    .dataframe tbody tr th {\n",
       "        vertical-align: top;\n",
       "    }\n",
       "\n",
       "    .dataframe thead th {\n",
       "        text-align: right;\n",
       "    }\n",
       "</style>\n",
       "<table border=\"1\" class=\"dataframe\">\n",
       "  <thead>\n",
       "    <tr style=\"text-align: right;\">\n",
       "      <th></th>\n",
       "      <th>Ticker</th>\n",
       "      <th>Date</th>\n",
       "      <th>Open_Price</th>\n",
       "      <th>High_Price</th>\n",
       "      <th>Low_Price</th>\n",
       "      <th>Close_Price</th>\n",
       "      <th>Volume</th>\n",
       "    </tr>\n",
       "  </thead>\n",
       "  <tbody>\n",
       "    <tr>\n",
       "      <th>0</th>\n",
       "      <td>AAL</td>\n",
       "      <td>2005-10-07</td>\n",
       "      <td>20.90</td>\n",
       "      <td>23.00</td>\n",
       "      <td>20.90</td>\n",
       "      <td>22.15</td>\n",
       "      <td>16350134</td>\n",
       "    </tr>\n",
       "    <tr>\n",
       "      <th>1</th>\n",
       "      <td>AAL</td>\n",
       "      <td>2005-10-14</td>\n",
       "      <td>22.28</td>\n",
       "      <td>22.40</td>\n",
       "      <td>21.40</td>\n",
       "      <td>22.27</td>\n",
       "      <td>9746113</td>\n",
       "    </tr>\n",
       "    <tr>\n",
       "      <th>2</th>\n",
       "      <td>AAL</td>\n",
       "      <td>2005-10-21</td>\n",
       "      <td>22.15</td>\n",
       "      <td>22.42</td>\n",
       "      <td>20.85</td>\n",
       "      <td>21.96</td>\n",
       "      <td>14218231</td>\n",
       "    </tr>\n",
       "    <tr>\n",
       "      <th>3</th>\n",
       "      <td>AAL</td>\n",
       "      <td>2005-10-28</td>\n",
       "      <td>22.01</td>\n",
       "      <td>23.90</td>\n",
       "      <td>21.70</td>\n",
       "      <td>23.90</td>\n",
       "      <td>9263807</td>\n",
       "    </tr>\n",
       "    <tr>\n",
       "      <th>4</th>\n",
       "      <td>AAL</td>\n",
       "      <td>2005-11-04</td>\n",
       "      <td>24.00</td>\n",
       "      <td>29.00</td>\n",
       "      <td>24.00</td>\n",
       "      <td>28.80</td>\n",
       "      <td>16788473</td>\n",
       "    </tr>\n",
       "    <tr>\n",
       "      <th>...</th>\n",
       "      <td>...</td>\n",
       "      <td>...</td>\n",
       "      <td>...</td>\n",
       "      <td>...</td>\n",
       "      <td>...</td>\n",
       "      <td>...</td>\n",
       "      <td>...</td>\n",
       "    </tr>\n",
       "    <tr>\n",
       "      <th>45681</th>\n",
       "      <td>XOM</td>\n",
       "      <td>2024-01-12</td>\n",
       "      <td>100.73</td>\n",
       "      <td>101.29</td>\n",
       "      <td>98.16</td>\n",
       "      <td>99.95</td>\n",
       "      <td>94947905</td>\n",
       "    </tr>\n",
       "    <tr>\n",
       "      <th>45682</th>\n",
       "      <td>XOM</td>\n",
       "      <td>2024-01-19</td>\n",
       "      <td>99.82</td>\n",
       "      <td>100.01</td>\n",
       "      <td>95.82</td>\n",
       "      <td>96.95</td>\n",
       "      <td>79648421</td>\n",
       "    </tr>\n",
       "    <tr>\n",
       "      <th>45683</th>\n",
       "      <td>XOM</td>\n",
       "      <td>2024-01-26</td>\n",
       "      <td>96.70</td>\n",
       "      <td>103.08</td>\n",
       "      <td>95.77</td>\n",
       "      <td>103.00</td>\n",
       "      <td>95840552</td>\n",
       "    </tr>\n",
       "    <tr>\n",
       "      <th>45684</th>\n",
       "      <td>XOM</td>\n",
       "      <td>2024-02-02</td>\n",
       "      <td>102.98</td>\n",
       "      <td>104.88</td>\n",
       "      <td>101.61</td>\n",
       "      <td>101.97</td>\n",
       "      <td>101557866</td>\n",
       "    </tr>\n",
       "    <tr>\n",
       "      <th>45685</th>\n",
       "      <td>XOM</td>\n",
       "      <td>2024-02-05</td>\n",
       "      <td>101.45</td>\n",
       "      <td>102.38</td>\n",
       "      <td>100.50</td>\n",
       "      <td>101.55</td>\n",
       "      <td>17190890</td>\n",
       "    </tr>\n",
       "  </tbody>\n",
       "</table>\n",
       "<p>45686 rows × 7 columns</p>\n",
       "</div>"
      ],
      "text/plain": [
       "      Ticker        Date  Open_Price  High_Price  Low_Price  Close_Price  \\\n",
       "0        AAL  2005-10-07       20.90       23.00      20.90        22.15   \n",
       "1        AAL  2005-10-14       22.28       22.40      21.40        22.27   \n",
       "2        AAL  2005-10-21       22.15       22.42      20.85        21.96   \n",
       "3        AAL  2005-10-28       22.01       23.90      21.70        23.90   \n",
       "4        AAL  2005-11-04       24.00       29.00      24.00        28.80   \n",
       "...      ...         ...         ...         ...        ...          ...   \n",
       "45681    XOM  2024-01-12      100.73      101.29      98.16        99.95   \n",
       "45682    XOM  2024-01-19       99.82      100.01      95.82        96.95   \n",
       "45683    XOM  2024-01-26       96.70      103.08      95.77       103.00   \n",
       "45684    XOM  2024-02-02      102.98      104.88     101.61       101.97   \n",
       "45685    XOM  2024-02-05      101.45      102.38     100.50       101.55   \n",
       "\n",
       "          Volume  \n",
       "0       16350134  \n",
       "1        9746113  \n",
       "2       14218231  \n",
       "3        9263807  \n",
       "4       16788473  \n",
       "...          ...  \n",
       "45681   94947905  \n",
       "45682   79648421  \n",
       "45683   95840552  \n",
       "45684  101557866  \n",
       "45685   17190890  \n",
       "\n",
       "[45686 rows x 7 columns]"
      ]
     },
     "execution_count": 22,
     "metadata": {},
     "output_type": "execute_result"
    }
   ],
   "source": [
    "clean_df"
   ]
  },
  {
   "cell_type": "code",
   "execution_count": 23,
   "metadata": {},
   "outputs": [
    {
     "name": "stdout",
     "output_type": "stream",
     "text": [
      "Dataframe Shape:  (45686, 7)\n"
     ]
    },
    {
     "data": {
      "text/plain": [
       "False"
      ]
     },
     "execution_count": 23,
     "metadata": {},
     "output_type": "execute_result"
    }
   ],
   "source": [
    "#check null values\n",
    "print('Dataframe Shape: ', clean_df. shape)\n",
    "\n",
    "missing_values = clean_df.isna().any().any()\n",
    "missing_values "
   ]
  },
  {
   "cell_type": "code",
   "execution_count": 24,
   "metadata": {},
   "outputs": [],
   "source": [
    "#adjust datetime\n",
    "\n",
    "import datetime\n",
    "\n",
    "def str_to_datetime(s):\n",
    "    split =s.split('-')\n",
    "    year,month,day=int(split[0]),int(split[1]),int(split[2])\n",
    "\n",
    "    return datetime.datetime(year=year,month=month,day=day)\n",
    "\n",
    "\n"
   ]
  },
  {
   "cell_type": "code",
   "execution_count": 25,
   "metadata": {},
   "outputs": [
    {
     "data": {
      "text/html": [
       "<div>\n",
       "<style scoped>\n",
       "    .dataframe tbody tr th:only-of-type {\n",
       "        vertical-align: middle;\n",
       "    }\n",
       "\n",
       "    .dataframe tbody tr th {\n",
       "        vertical-align: top;\n",
       "    }\n",
       "\n",
       "    .dataframe thead th {\n",
       "        text-align: right;\n",
       "    }\n",
       "</style>\n",
       "<table border=\"1\" class=\"dataframe\">\n",
       "  <thead>\n",
       "    <tr style=\"text-align: right;\">\n",
       "      <th></th>\n",
       "      <th>Ticker</th>\n",
       "      <th>Date</th>\n",
       "      <th>Open_Price</th>\n",
       "      <th>High_Price</th>\n",
       "      <th>Low_Price</th>\n",
       "      <th>Close_Price</th>\n",
       "      <th>Volume</th>\n",
       "    </tr>\n",
       "  </thead>\n",
       "  <tbody>\n",
       "    <tr>\n",
       "      <th>957</th>\n",
       "      <td>AAPL</td>\n",
       "      <td>1999-11-12</td>\n",
       "      <td>87.75</td>\n",
       "      <td>97.73</td>\n",
       "      <td>86.75</td>\n",
       "      <td>90.62</td>\n",
       "      <td>25776200</td>\n",
       "    </tr>\n",
       "    <tr>\n",
       "      <th>958</th>\n",
       "      <td>AAPL</td>\n",
       "      <td>1999-11-19</td>\n",
       "      <td>89.62</td>\n",
       "      <td>94.75</td>\n",
       "      <td>88.06</td>\n",
       "      <td>92.44</td>\n",
       "      <td>13711000</td>\n",
       "    </tr>\n",
       "    <tr>\n",
       "      <th>959</th>\n",
       "      <td>AAPL</td>\n",
       "      <td>1999-11-26</td>\n",
       "      <td>91.75</td>\n",
       "      <td>95.50</td>\n",
       "      <td>88.50</td>\n",
       "      <td>95.06</td>\n",
       "      <td>9757600</td>\n",
       "    </tr>\n",
       "    <tr>\n",
       "      <th>960</th>\n",
       "      <td>AAPL</td>\n",
       "      <td>1999-12-03</td>\n",
       "      <td>94.25</td>\n",
       "      <td>115.56</td>\n",
       "      <td>93.25</td>\n",
       "      <td>115.00</td>\n",
       "      <td>28046300</td>\n",
       "    </tr>\n",
       "    <tr>\n",
       "      <th>961</th>\n",
       "      <td>AAPL</td>\n",
       "      <td>1999-12-10</td>\n",
       "      <td>114.56</td>\n",
       "      <td>118.00</td>\n",
       "      <td>99.00</td>\n",
       "      <td>103.00</td>\n",
       "      <td>25152800</td>\n",
       "    </tr>\n",
       "    <tr>\n",
       "      <th>...</th>\n",
       "      <td>...</td>\n",
       "      <td>...</td>\n",
       "      <td>...</td>\n",
       "      <td>...</td>\n",
       "      <td>...</td>\n",
       "      <td>...</td>\n",
       "      <td>...</td>\n",
       "    </tr>\n",
       "    <tr>\n",
       "      <th>2217</th>\n",
       "      <td>AAPL</td>\n",
       "      <td>2024-01-05</td>\n",
       "      <td>187.15</td>\n",
       "      <td>188.44</td>\n",
       "      <td>180.17</td>\n",
       "      <td>181.18</td>\n",
       "      <td>275083628</td>\n",
       "    </tr>\n",
       "    <tr>\n",
       "      <th>2218</th>\n",
       "      <td>AAPL</td>\n",
       "      <td>2024-01-12</td>\n",
       "      <td>182.09</td>\n",
       "      <td>187.05</td>\n",
       "      <td>181.50</td>\n",
       "      <td>185.92</td>\n",
       "      <td>238385377</td>\n",
       "    </tr>\n",
       "    <tr>\n",
       "      <th>2219</th>\n",
       "      <td>AAPL</td>\n",
       "      <td>2024-01-19</td>\n",
       "      <td>182.16</td>\n",
       "      <td>191.95</td>\n",
       "      <td>180.30</td>\n",
       "      <td>191.56</td>\n",
       "      <td>259829213</td>\n",
       "    </tr>\n",
       "    <tr>\n",
       "      <th>2220</th>\n",
       "      <td>AAPL</td>\n",
       "      <td>2024-01-26</td>\n",
       "      <td>192.30</td>\n",
       "      <td>196.38</td>\n",
       "      <td>191.94</td>\n",
       "      <td>192.42</td>\n",
       "      <td>255368848</td>\n",
       "    </tr>\n",
       "    <tr>\n",
       "      <th>2221</th>\n",
       "      <td>AAPL</td>\n",
       "      <td>2024-02-02</td>\n",
       "      <td>192.01</td>\n",
       "      <td>192.20</td>\n",
       "      <td>179.25</td>\n",
       "      <td>185.85</td>\n",
       "      <td>325909883</td>\n",
       "    </tr>\n",
       "  </tbody>\n",
       "</table>\n",
       "<p>1265 rows × 7 columns</p>\n",
       "</div>"
      ],
      "text/plain": [
       "     Ticker        Date  Open_Price  High_Price  Low_Price  Close_Price  \\\n",
       "957    AAPL  1999-11-12       87.75       97.73      86.75        90.62   \n",
       "958    AAPL  1999-11-19       89.62       94.75      88.06        92.44   \n",
       "959    AAPL  1999-11-26       91.75       95.50      88.50        95.06   \n",
       "960    AAPL  1999-12-03       94.25      115.56      93.25       115.00   \n",
       "961    AAPL  1999-12-10      114.56      118.00      99.00       103.00   \n",
       "...     ...         ...         ...         ...        ...          ...   \n",
       "2217   AAPL  2024-01-05      187.15      188.44     180.17       181.18   \n",
       "2218   AAPL  2024-01-12      182.09      187.05     181.50       185.92   \n",
       "2219   AAPL  2024-01-19      182.16      191.95     180.30       191.56   \n",
       "2220   AAPL  2024-01-26      192.30      196.38     191.94       192.42   \n",
       "2221   AAPL  2024-02-02      192.01      192.20     179.25       185.85   \n",
       "\n",
       "         Volume  \n",
       "957    25776200  \n",
       "958    13711000  \n",
       "959     9757600  \n",
       "960    28046300  \n",
       "961    25152800  \n",
       "...         ...  \n",
       "2217  275083628  \n",
       "2218  238385377  \n",
       "2219  259829213  \n",
       "2220  255368848  \n",
       "2221  325909883  \n",
       "\n",
       "[1265 rows x 7 columns]"
      ]
     },
     "execution_count": 25,
     "metadata": {},
     "output_type": "execute_result"
    }
   ],
   "source": [
    "# Filter DataFrame for the desired symbol\n",
    "AAPL_df = clean_df[clean_df['Ticker'] == 'AAPL']\n",
    "AAPL_df"
   ]
  },
  {
   "cell_type": "code",
   "execution_count": 26,
   "metadata": {},
   "outputs": [
    {
     "data": {
      "image/png": "[encoded data removed]",
      "text/plain": [
       "<Figure size 640x480 with 1 Axes>"
      ]
     },
     "metadata": {},
     "output_type": "display_data"
    }
   ],
   "source": [
    "\n",
    "# Plot closing prices\n",
    "AAPL_df['Close_Price'].plot()\n",
    "# # Add labels and title\n",
    "plt.xlabel('Date')\n",
    "plt.ylabel('Close_Price')\n",
    "plt.title('Close Prices for AAPL')\n",
    "# Show plot\n",
    "plt.show()"
   ]
  },
  {
   "cell_type": "code",
   "execution_count": 27,
   "metadata": {},
   "outputs": [
    {
     "data": {
      "text/html": [
       "<div>\n",
       "<style scoped>\n",
       "    .dataframe tbody tr th:only-of-type {\n",
       "        vertical-align: middle;\n",
       "    }\n",
       "\n",
       "    .dataframe tbody tr th {\n",
       "        vertical-align: top;\n",
       "    }\n",
       "\n",
       "    .dataframe thead th {\n",
       "        text-align: right;\n",
       "    }\n",
       "</style>\n",
       "<table border=\"1\" class=\"dataframe\">\n",
       "  <thead>\n",
       "    <tr style=\"text-align: right;\">\n",
       "      <th></th>\n",
       "      <th>Open_Price</th>\n",
       "      <th>High_Price</th>\n",
       "      <th>Low_Price</th>\n",
       "      <th>Volume</th>\n",
       "    </tr>\n",
       "  </thead>\n",
       "  <tbody>\n",
       "    <tr>\n",
       "      <th>957</th>\n",
       "      <td>0.108741</td>\n",
       "      <td>0.121630</td>\n",
       "      <td>0.108724</td>\n",
       "      <td>0.017455</td>\n",
       "    </tr>\n",
       "    <tr>\n",
       "      <th>958</th>\n",
       "      <td>0.111466</td>\n",
       "      <td>0.117320</td>\n",
       "      <td>0.110648</td>\n",
       "      <td>0.007061</td>\n",
       "    </tr>\n",
       "    <tr>\n",
       "      <th>959</th>\n",
       "      <td>0.114570</td>\n",
       "      <td>0.118405</td>\n",
       "      <td>0.111294</td>\n",
       "      <td>0.003655</td>\n",
       "    </tr>\n",
       "    <tr>\n",
       "      <th>960</th>\n",
       "      <td>0.118213</td>\n",
       "      <td>0.147417</td>\n",
       "      <td>0.118270</td>\n",
       "      <td>0.019410</td>\n",
       "    </tr>\n",
       "    <tr>\n",
       "      <th>961</th>\n",
       "      <td>0.147810</td>\n",
       "      <td>0.150946</td>\n",
       "      <td>0.126715</td>\n",
       "      <td>0.016918</td>\n",
       "    </tr>\n",
       "  </tbody>\n",
       "</table>\n",
       "</div>"
      ],
      "text/plain": [
       "     Open_Price  High_Price  Low_Price    Volume\n",
       "957    0.108741    0.121630   0.108724  0.017455\n",
       "958    0.111466    0.117320   0.110648  0.007061\n",
       "959    0.114570    0.118405   0.111294  0.003655\n",
       "960    0.118213    0.147417   0.118270  0.019410\n",
       "961    0.147810    0.150946   0.126715  0.016918"
      ]
     },
     "execution_count": 27,
     "metadata": {},
     "output_type": "execute_result"
    }
   ],
   "source": [
    "#Set Target Variable\n",
    "AAPL_output = AAPL_df['Close_Price']\n",
    "#Selecting the Features \n",
    "features = ['Open_Price','High_Price','Low_Price','Volume']\n",
    "\n",
    "#Scaling\n",
    "scaler = MinMaxScaler()\n",
    "feature_transform = scaler.fit_transform(AAPL_df[features])\n",
    "feature_transform= pd.DataFrame(columns=features, data=feature_transform, index=AAPL_df.index)\n",
    "feature_transform.head()"
   ]
  },
  {
   "cell_type": "code",
   "execution_count": 28,
   "metadata": {},
   "outputs": [
    {
     "name": "stdout",
     "output_type": "stream",
     "text": [
      "Requirement already satisfied: pydot in c:\\users\\evelyn\\anaconda3\\envs\\tf\\lib\\site-packages (1.2.3)\n",
      "Requirement already satisfied: pyparsing>=2.1.4 in c:\\users\\evelyn\\anaconda3\\envs\\tf\\lib\\site-packages (from pydot) (3.1.1)\n",
      "Note: you may need to restart the kernel to use updated packages.\n"
     ]
    }
   ],
   "source": [
    "pip install pydot"
   ]
  },
  {
   "cell_type": "code",
   "execution_count": 29,
   "metadata": {},
   "outputs": [
    {
     "name": "stdout",
     "output_type": "stream",
     "text": [
      "Requirement already satisfied: graphviz in c:\\users\\evelyn\\anaconda3\\envs\\tf\\lib\\site-packages (0.20.1)Note: you may need to restart the kernel to use updated packages.\n",
      "\n"
     ]
    }
   ],
   "source": [
    "pip install graphviz "
   ]
  },
  {
   "cell_type": "code",
   "execution_count": 30,
   "metadata": {},
   "outputs": [
    {
     "name": "stdout",
     "output_type": "stream",
     "text": [
      "Requirement already satisfied: pydot-ng in c:\\users\\evelyn\\anaconda3\\envs\\tf\\lib\\site-packages (2.0.0)\n",
      "Requirement already satisfied: pyparsing>=2.0.1 in c:\\users\\evelyn\\anaconda3\\envs\\tf\\lib\\site-packages (from pydot-ng) (3.1.1)\n",
      "Note: you may need to restart the kernel to use updated packages.\n"
     ]
    }
   ],
   "source": [
    "pip install pydot-ng"
   ]
  }
 ],
 "metadata": {
  "kernelspec": {
   "display_name": "Python 3",
   "language": "python",
   "name": "python3"
  },
  "language_info": {
   "codemirror_mode": {
    "name": "ipython",
    "version": 3
   },
   "file_extension": ".py",
   "mimetype": "text/x-python",
   "name": "python",
   "nbconvert_exporter": "python",
   "pygments_lexer": "ipython3",
   "version": "3.9.18"
  }
 },
 "nbformat": 4,
 "nbformat_minor": 2
}
