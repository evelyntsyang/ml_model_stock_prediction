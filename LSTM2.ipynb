{
 "cells": [
  {
   "cell_type": "markdown",
   "metadata": {},
   "source": [
    "Use LSTM to train AAPL "
   ]
  },
  {
   "cell_type": "code",
   "execution_count": 1,
   "metadata": {},
   "outputs": [
    {
     "name": "stdout",
     "output_type": "stream",
     "text": [
      "Requirement already satisfied: numpy in c:\\users\\evelyn\\anaconda3\\envs\\tf\\lib\\site-packages (1.26.3)\n",
      "Note: you may need to restart the kernel to use updated packages.\n"
     ]
    }
   ],
   "source": [
    "pip install numpy"
   ]
  },
  {
   "cell_type": "code",
   "execution_count": 2,
   "metadata": {},
   "outputs": [
    {
     "name": "stdout",
     "output_type": "stream",
     "text": [
      "Requirement already satisfied: pandas in c:\\users\\evelyn\\anaconda3\\envs\\tf\\lib\\site-packages (2.2.0)\n",
      "Requirement already satisfied: numpy<2,>=1.22.4 in c:\\users\\evelyn\\anaconda3\\envs\\tf\\lib\\site-packages (from pandas) (1.26.3)\n",
      "Requirement already satisfied: python-dateutil>=2.8.2 in c:\\users\\evelyn\\anaconda3\\envs\\tf\\lib\\site-packages (from pandas) (2.8.2)\n",
      "Requirement already satisfied: pytz>=2020.1 in c:\\users\\evelyn\\anaconda3\\envs\\tf\\lib\\site-packages (from pandas) (2023.3.post1)\n",
      "Requirement already satisfied: tzdata>=2022.7 in c:\\users\\evelyn\\anaconda3\\envs\\tf\\lib\\site-packages (from pandas) (2024.1)\n",
      "Requirement already satisfied: six>=1.5 in c:\\users\\evelyn\\anaconda3\\envs\\tf\\lib\\site-packages (from python-dateutil>=2.8.2->pandas) (1.16.0)\n",
      "Note: you may need to restart the kernel to use updated packages.\n"
     ]
    }
   ],
   "source": [
    "pip install pandas"
   ]
  },
  {
   "cell_type": "code",
   "execution_count": 3,
   "metadata": {},
   "outputs": [
    {
     "name": "stdout",
     "output_type": "stream",
     "text": [
      "Requirement already satisfied: tensorflow in c:\\users\\evelyn\\anaconda3\\envs\\tf\\lib\\site-packages (2.10.0)\n",
      "Requirement already satisfied: absl-py>=1.0.0 in c:\\users\\evelyn\\anaconda3\\envs\\tf\\lib\\site-packages (from tensorflow) (1.4.0)\n",
      "Requirement already satisfied: astunparse>=1.6.0 in c:\\users\\evelyn\\anaconda3\\envs\\tf\\lib\\site-packages (from tensorflow) (1.6.3)\n",
      "Requirement already satisfied: flatbuffers>=2.0 in c:\\users\\evelyn\\anaconda3\\envs\\tf\\lib\\site-packages (from tensorflow) (2.0)\n",
      "Requirement already satisfied: gast<=0.4.0,>=0.2.1 in c:\\users\\evelyn\\anaconda3\\envs\\tf\\lib\\site-packages (from tensorflow) (0.4.0)\n",
      "Requirement already satisfied: google-pasta>=0.1.1 in c:\\users\\evelyn\\anaconda3\\envs\\tf\\lib\\site-packages (from tensorflow) (0.2.0)\n",
      "Requirement already satisfied: h5py>=2.9.0 in c:\\users\\evelyn\\anaconda3\\envs\\tf\\lib\\site-packages (from tensorflow) (3.9.0)\n",
      "Requirement already satisfied: keras-preprocessing>=1.1.1 in c:\\users\\evelyn\\anaconda3\\envs\\tf\\lib\\site-packages (from tensorflow) (1.1.2)\n",
      "Requirement already satisfied: libclang>=13.0.0 in c:\\users\\evelyn\\anaconda3\\envs\\tf\\lib\\site-packages (from tensorflow) (16.0.6)\n",
      "Requirement already satisfied: numpy>=1.20 in c:\\users\\evelyn\\anaconda3\\envs\\tf\\lib\\site-packages (from tensorflow) (1.26.3)\n",
      "Requirement already satisfied: opt-einsum>=2.3.2 in c:\\users\\evelyn\\anaconda3\\envs\\tf\\lib\\site-packages (from tensorflow) (3.3.0)\n",
      "Requirement already satisfied: packaging in c:\\users\\evelyn\\anaconda3\\envs\\tf\\lib\\site-packages (from tensorflow) (23.1)\n",
      "Requirement already satisfied: protobuf<3.20,>=3.9.2 in c:\\users\\evelyn\\anaconda3\\envs\\tf\\lib\\site-packages (from tensorflow) (3.19.6)\n",
      "Requirement already satisfied: setuptools in c:\\users\\evelyn\\anaconda3\\envs\\tf\\lib\\site-packages (from tensorflow) (68.2.2)\n",
      "Requirement already satisfied: six>=1.12.0 in c:\\users\\evelyn\\anaconda3\\envs\\tf\\lib\\site-packages (from tensorflow) (1.16.0)\n",
      "Requirement already satisfied: termcolor>=1.1.0 in c:\\users\\evelyn\\anaconda3\\envs\\tf\\lib\\site-packages (from tensorflow) (2.1.0)\n",
      "Requirement already satisfied: typing-extensions>=3.6.6 in c:\\users\\evelyn\\anaconda3\\envs\\tf\\lib\\site-packages (from tensorflow) (4.9.0)\n",
      "Requirement already satisfied: wrapt>=1.11.0 in c:\\users\\evelyn\\anaconda3\\envs\\tf\\lib\\site-packages (from tensorflow) (1.14.1)\n",
      "Requirement already satisfied: tensorflow-io-gcs-filesystem>=0.23.1 in c:\\users\\evelyn\\anaconda3\\envs\\tf\\lib\\site-packages (from tensorflow) (0.31.0)\n",
      "Requirement already satisfied: grpcio<2.0,>=1.24.3 in c:\\users\\evelyn\\anaconda3\\envs\\tf\\lib\\site-packages (from tensorflow) (1.42.0)\n",
      "Requirement already satisfied: tensorboard<2.11,>=2.10 in c:\\users\\evelyn\\anaconda3\\envs\\tf\\lib\\site-packages (from tensorflow) (2.10.0)\n",
      "Requirement already satisfied: tensorflow-estimator<2.11,>=2.10.0 in c:\\users\\evelyn\\anaconda3\\envs\\tf\\lib\\site-packages (from tensorflow) (2.10.0)\n",
      "Requirement already satisfied: keras<2.11,>=2.10.0 in c:\\users\\evelyn\\anaconda3\\envs\\tf\\lib\\site-packages (from tensorflow) (2.10.0)\n",
      "Requirement already satisfied: wheel<1.0,>=0.23.0 in c:\\users\\evelyn\\anaconda3\\envs\\tf\\lib\\site-packages (from astunparse>=1.6.0->tensorflow) (0.41.2)\n",
      "Requirement already satisfied: google-auth<3,>=1.6.3 in c:\\users\\evelyn\\anaconda3\\envs\\tf\\lib\\site-packages (from tensorboard<2.11,>=2.10->tensorflow) (2.6.0)\n",
      "Requirement already satisfied: google-auth-oauthlib<0.5,>=0.4.1 in c:\\users\\evelyn\\anaconda3\\envs\\tf\\lib\\site-packages (from tensorboard<2.11,>=2.10->tensorflow) (0.4.4)\n",
      "Requirement already satisfied: markdown>=2.6.8 in c:\\users\\evelyn\\anaconda3\\envs\\tf\\lib\\site-packages (from tensorboard<2.11,>=2.10->tensorflow) (3.4.1)\n",
      "Requirement already satisfied: requests<3,>=2.21.0 in c:\\users\\evelyn\\anaconda3\\envs\\tf\\lib\\site-packages (from tensorboard<2.11,>=2.10->tensorflow) (2.31.0)\n",
      "Requirement already satisfied: tensorboard-data-server<0.7.0,>=0.6.0 in c:\\users\\evelyn\\anaconda3\\envs\\tf\\lib\\site-packages (from tensorboard<2.11,>=2.10->tensorflow) (0.6.1)\n",
      "Requirement already satisfied: tensorboard-plugin-wit>=1.6.0 in c:\\users\\evelyn\\anaconda3\\envs\\tf\\lib\\site-packages (from tensorboard<2.11,>=2.10->tensorflow) (1.8.1)\n",
      "Requirement already satisfied: werkzeug>=1.0.1 in c:\\users\\evelyn\\anaconda3\\envs\\tf\\lib\\site-packages (from tensorboard<2.11,>=2.10->tensorflow) (2.3.8)\n",
      "Requirement already satisfied: cachetools<6.0,>=2.0.0 in c:\\users\\evelyn\\anaconda3\\envs\\tf\\lib\\site-packages (from google-auth<3,>=1.6.3->tensorboard<2.11,>=2.10->tensorflow) (4.2.2)\n",
      "Requirement already satisfied: pyasn1-modules>=0.2.1 in c:\\users\\evelyn\\anaconda3\\envs\\tf\\lib\\site-packages (from google-auth<3,>=1.6.3->tensorboard<2.11,>=2.10->tensorflow) (0.2.8)\n",
      "Requirement already satisfied: rsa<5,>=3.1.4 in c:\\users\\evelyn\\anaconda3\\envs\\tf\\lib\\site-packages (from google-auth<3,>=1.6.3->tensorboard<2.11,>=2.10->tensorflow) (4.7.2)\n",
      "Requirement already satisfied: requests-oauthlib>=0.7.0 in c:\\users\\evelyn\\anaconda3\\envs\\tf\\lib\\site-packages (from google-auth-oauthlib<0.5,>=0.4.1->tensorboard<2.11,>=2.10->tensorflow) (1.3.0)\n",
      "Requirement already satisfied: importlib-metadata>=4.4 in c:\\users\\evelyn\\anaconda3\\envs\\tf\\lib\\site-packages (from markdown>=2.6.8->tensorboard<2.11,>=2.10->tensorflow) (7.0.1)\n",
      "Requirement already satisfied: charset-normalizer<4,>=2 in c:\\users\\evelyn\\anaconda3\\envs\\tf\\lib\\site-packages (from requests<3,>=2.21.0->tensorboard<2.11,>=2.10->tensorflow) (2.0.4)\n",
      "Requirement already satisfied: idna<4,>=2.5 in c:\\users\\evelyn\\anaconda3\\envs\\tf\\lib\\site-packages (from requests<3,>=2.21.0->tensorboard<2.11,>=2.10->tensorflow) (3.4)\n",
      "Requirement already satisfied: urllib3<3,>=1.21.1 in c:\\users\\evelyn\\anaconda3\\envs\\tf\\lib\\site-packages (from requests<3,>=2.21.0->tensorboard<2.11,>=2.10->tensorflow) (2.1.0)\n",
      "Requirement already satisfied: certifi>=2017.4.17 in c:\\users\\evelyn\\anaconda3\\envs\\tf\\lib\\site-packages (from requests<3,>=2.21.0->tensorboard<2.11,>=2.10->tensorflow) (2024.2.2)\n",
      "Requirement already satisfied: MarkupSafe>=2.1.1 in c:\\users\\evelyn\\anaconda3\\envs\\tf\\lib\\site-packages (from werkzeug>=1.0.1->tensorboard<2.11,>=2.10->tensorflow) (2.1.3)\n",
      "Requirement already satisfied: zipp>=0.5 in c:\\users\\evelyn\\anaconda3\\envs\\tf\\lib\\site-packages (from importlib-metadata>=4.4->markdown>=2.6.8->tensorboard<2.11,>=2.10->tensorflow) (3.17.0)\n",
      "Requirement already satisfied: pyasn1<0.5.0,>=0.4.6 in c:\\users\\evelyn\\anaconda3\\envs\\tf\\lib\\site-packages (from pyasn1-modules>=0.2.1->google-auth<3,>=1.6.3->tensorboard<2.11,>=2.10->tensorflow) (0.4.8)\n",
      "Requirement already satisfied: oauthlib>=3.0.0 in c:\\users\\evelyn\\anaconda3\\envs\\tf\\lib\\site-packages (from requests-oauthlib>=0.7.0->google-auth-oauthlib<0.5,>=0.4.1->tensorboard<2.11,>=2.10->tensorflow) (3.2.2)\n",
      "Note: you may need to restart the kernel to use updated packages.\n"
     ]
    }
   ],
   "source": [
    "pip install tensorflow"
   ]
  },
  {
   "cell_type": "code",
   "execution_count": 4,
   "metadata": {},
   "outputs": [
    {
     "name": "stdout",
     "output_type": "stream",
     "text": [
      "Requirement already satisfied: matplotlib in c:\\users\\evelyn\\anaconda3\\envs\\tf\\lib\\site-packages (3.8.3)\n",
      "Requirement already satisfied: contourpy>=1.0.1 in c:\\users\\evelyn\\anaconda3\\envs\\tf\\lib\\site-packages (from matplotlib) (1.2.0)\n",
      "Requirement already satisfied: cycler>=0.10 in c:\\users\\evelyn\\anaconda3\\envs\\tf\\lib\\site-packages (from matplotlib) (0.12.1)\n",
      "Requirement already satisfied: fonttools>=4.22.0 in c:\\users\\evelyn\\anaconda3\\envs\\tf\\lib\\site-packages (from matplotlib) (4.49.0)\n",
      "Requirement already satisfied: kiwisolver>=1.3.1 in c:\\users\\evelyn\\anaconda3\\envs\\tf\\lib\\site-packages (from matplotlib) (1.4.5)\n",
      "Requirement already satisfied: numpy<2,>=1.21 in c:\\users\\evelyn\\anaconda3\\envs\\tf\\lib\\site-packages (from matplotlib) (1.26.3)\n",
      "Requirement already satisfied: packaging>=20.0 in c:\\users\\evelyn\\anaconda3\\envs\\tf\\lib\\site-packages (from matplotlib) (23.1)\n",
      "Requirement already satisfied: pillow>=8 in c:\\users\\evelyn\\anaconda3\\envs\\tf\\lib\\site-packages (from matplotlib) (10.2.0)\n",
      "Requirement already satisfied: pyparsing>=2.3.1 in c:\\users\\evelyn\\anaconda3\\envs\\tf\\lib\\site-packages (from matplotlib) (3.1.1)\n",
      "Requirement already satisfied: python-dateutil>=2.7 in c:\\users\\evelyn\\anaconda3\\envs\\tf\\lib\\site-packages (from matplotlib) (2.8.2)\n",
      "Requirement already satisfied: importlib-resources>=3.2.0 in c:\\users\\evelyn\\anaconda3\\envs\\tf\\lib\\site-packages (from matplotlib) (6.1.1)\n",
      "Requirement already satisfied: zipp>=3.1.0 in c:\\users\\evelyn\\anaconda3\\envs\\tf\\lib\\site-packages (from importlib-resources>=3.2.0->matplotlib) (3.17.0)\n",
      "Requirement already satisfied: six>=1.5 in c:\\users\\evelyn\\anaconda3\\envs\\tf\\lib\\site-packages (from python-dateutil>=2.7->matplotlib) (1.16.0)\n",
      "Note: you may need to restart the kernel to use updated packages.\n"
     ]
    }
   ],
   "source": [
    "pip install matplotlib"
   ]
  },
  {
   "cell_type": "code",
   "execution_count": 5,
   "metadata": {},
   "outputs": [
    {
     "name": "stdout",
     "output_type": "stream",
     "text": [
      "Requirement already satisfied: pyodbc in c:\\users\\evelyn\\anaconda3\\envs\\tf\\lib\\site-packages (5.1.0)\n",
      "Note: you may need to restart the kernel to use updated packages.\n"
     ]
    }
   ],
   "source": [
    "pip install pyodbc\n"
   ]
  },
  {
   "cell_type": "code",
   "execution_count": 6,
   "metadata": {},
   "outputs": [
    {
     "name": "stderr",
     "output_type": "stream",
     "text": [
      "C:\\Users\\Evelyn\\AppData\\Local\\Temp\\ipykernel_20880\\555286768.py:1: DeprecationWarning: \n",
      "Pyarrow will become a required dependency of pandas in the next major release of pandas (pandas 3.0),\n",
      "(to allow more performant data types, such as the Arrow string type, and better interoperability with other libraries)\n",
      "but was not found to be installed on your system.\n",
      "If this would cause problems for you,\n",
      "please provide us feedback at https://github.com/pandas-dev/pandas/issues/54466\n",
      "        \n",
      "  import pandas as pd\n"
     ]
    }
   ],
   "source": [
    "import pandas as pd\n",
    "import numpy as np\n",
    "%matplotlib inline\n",
    "import matplotlib. pyplot as plt\n",
    "import matplotlib\n",
    "import pyodbc\n",
    "from sklearn import preprocessing\n",
    "from sklearn.preprocessing import MinMaxScaler\n",
    "from sklearn.model_selection import TimeSeriesSplit\n",
    "from sklearn.metrics import mean_squared_error, r2_score\n",
    "import matplotlib. dates as mandates\n",
    "from sklearn import linear_model\n",
    "\n",
    "from keras. layers import LSTM, Dense, Dropout\n",
    "from keras. models import Sequential\n",
    "from keras. layers import Dense\n",
    "import keras. backend as K\n",
    "from keras. callbacks import EarlyStopping\n",
    "from keras. models import load_model\n",
    "from keras. layers import LSTM\n",
    "from keras. utils.vis_utils import plot_model\n",
    "from keras.optimizers import Adam\n"
   ]
  },
  {
   "cell_type": "code",
   "execution_count": 7,
   "metadata": {},
   "outputs": [
    {
     "name": "stdout",
     "output_type": "stream",
     "text": [
      "Requirement already satisfied: scikit-learn in c:\\users\\evelyn\\anaconda3\\envs\\tf\\lib\\site-packages (1.4.1.post1)\n",
      "Requirement already satisfied: numpy<2.0,>=1.19.5 in c:\\users\\evelyn\\anaconda3\\envs\\tf\\lib\\site-packages (from scikit-learn) (1.26.3)\n",
      "Requirement already satisfied: scipy>=1.6.0 in c:\\users\\evelyn\\anaconda3\\envs\\tf\\lib\\site-packages (from scikit-learn) (1.11.4)\n",
      "Requirement already satisfied: joblib>=1.2.0 in c:\\users\\evelyn\\anaconda3\\envs\\tf\\lib\\site-packages (from scikit-learn) (1.3.2)\n",
      "Requirement already satisfied: threadpoolctl>=2.0.0 in c:\\users\\evelyn\\anaconda3\\envs\\tf\\lib\\site-packages (from scikit-learn) (3.3.0)\n",
      "Note: you may need to restart the kernel to use updated packages.\n"
     ]
    }
   ],
   "source": [
    "pip install scikit-learn"
   ]
  },
  {
   "cell_type": "code",
   "execution_count": 8,
   "metadata": {},
   "outputs": [
    {
     "name": "stdout",
     "output_type": "stream",
     "text": [
      "Requirement already satisfied: Keras in c:\\users\\evelyn\\anaconda3\\envs\\tf\\lib\\site-packages (2.10.0)\n",
      "Note: you may need to restart the kernel to use updated packages.\n"
     ]
    }
   ],
   "source": [
    "pip install Keras\n"
   ]
  },
  {
   "cell_type": "code",
   "execution_count": 9,
   "metadata": {},
   "outputs": [
    {
     "name": "stderr",
     "output_type": "stream",
     "text": [
      "C:\\Users\\Evelyn\\AppData\\Local\\Temp\\ipykernel_20880\\4071412966.py:12: UserWarning: pandas only supports SQLAlchemy connectable (engine/connection) or database string URI or sqlite3 DBAPI2 connection. Other DBAPI2 objects are not tested. Please consider using SQLAlchemy.\n",
      "  clean_df = pd.read_sql(query_price, conn)\n"
     ]
    }
   ],
   "source": [
    "#get the view table from SQL\n",
    "# Define the connection details\n",
    "server = 'stocksserver.database.windows.net' \n",
    "database = 'stockdb' \n",
    "username = 'Evelyn'\n",
    "password = 'Apple2327'\n",
    "\n",
    "# Establish the connection\n",
    "conn = pyodbc.connect('DRIVER={SQL Server};SERVER='+server+';DATABASE='+database+';UID='+username+';PWD='+ password)\n",
    "query_price = \"SELECT * FROM Daily_Price;\"\n",
    "# Execute the query and create a DataFrame\n",
    "clean_df = pd.read_sql(query_price, conn)\n",
    "\n",
    "# Don't forget to close the connection when done\n",
    "conn.close()\n",
    "\n",
    "\n",
    "\n",
    "\n"
   ]
  },
  {
   "cell_type": "code",
   "execution_count": 10,
   "metadata": {},
   "outputs": [
    {
     "data": {
      "text/html": [
       "<div>\n",
       "<style scoped>\n",
       "    .dataframe tbody tr th:only-of-type {\n",
       "        vertical-align: middle;\n",
       "    }\n",
       "\n",
       "    .dataframe tbody tr th {\n",
       "        vertical-align: top;\n",
       "    }\n",
       "\n",
       "    .dataframe thead th {\n",
       "        text-align: right;\n",
       "    }\n",
       "</style>\n",
       "<table border=\"1\" class=\"dataframe\">\n",
       "  <thead>\n",
       "    <tr style=\"text-align: right;\">\n",
       "      <th></th>\n",
       "      <th>Ticker</th>\n",
       "      <th>Date</th>\n",
       "      <th>Open_Price</th>\n",
       "      <th>High_Price</th>\n",
       "      <th>Low_Price</th>\n",
       "      <th>Close_Price</th>\n",
       "      <th>Volume</th>\n",
       "    </tr>\n",
       "  </thead>\n",
       "  <tbody>\n",
       "    <tr>\n",
       "      <th>0</th>\n",
       "      <td>AAL</td>\n",
       "      <td>2005-10-07</td>\n",
       "      <td>20.90</td>\n",
       "      <td>23.00</td>\n",
       "      <td>20.90</td>\n",
       "      <td>22.15</td>\n",
       "      <td>16350134</td>\n",
       "    </tr>\n",
       "    <tr>\n",
       "      <th>1</th>\n",
       "      <td>AAL</td>\n",
       "      <td>2005-10-14</td>\n",
       "      <td>22.28</td>\n",
       "      <td>22.40</td>\n",
       "      <td>21.40</td>\n",
       "      <td>22.27</td>\n",
       "      <td>9746113</td>\n",
       "    </tr>\n",
       "    <tr>\n",
       "      <th>2</th>\n",
       "      <td>AAL</td>\n",
       "      <td>2005-10-21</td>\n",
       "      <td>22.15</td>\n",
       "      <td>22.42</td>\n",
       "      <td>20.85</td>\n",
       "      <td>21.96</td>\n",
       "      <td>14218231</td>\n",
       "    </tr>\n",
       "    <tr>\n",
       "      <th>3</th>\n",
       "      <td>AAL</td>\n",
       "      <td>2005-10-28</td>\n",
       "      <td>22.01</td>\n",
       "      <td>23.90</td>\n",
       "      <td>21.70</td>\n",
       "      <td>23.90</td>\n",
       "      <td>9263807</td>\n",
       "    </tr>\n",
       "    <tr>\n",
       "      <th>4</th>\n",
       "      <td>AAL</td>\n",
       "      <td>2005-11-04</td>\n",
       "      <td>24.00</td>\n",
       "      <td>29.00</td>\n",
       "      <td>24.00</td>\n",
       "      <td>28.80</td>\n",
       "      <td>16788473</td>\n",
       "    </tr>\n",
       "    <tr>\n",
       "      <th>...</th>\n",
       "      <td>...</td>\n",
       "      <td>...</td>\n",
       "      <td>...</td>\n",
       "      <td>...</td>\n",
       "      <td>...</td>\n",
       "      <td>...</td>\n",
       "      <td>...</td>\n",
       "    </tr>\n",
       "    <tr>\n",
       "      <th>45681</th>\n",
       "      <td>XOM</td>\n",
       "      <td>2024-01-12</td>\n",
       "      <td>100.73</td>\n",
       "      <td>101.29</td>\n",
       "      <td>98.16</td>\n",
       "      <td>99.95</td>\n",
       "      <td>94947905</td>\n",
       "    </tr>\n",
       "    <tr>\n",
       "      <th>45682</th>\n",
       "      <td>XOM</td>\n",
       "      <td>2024-01-19</td>\n",
       "      <td>99.82</td>\n",
       "      <td>100.01</td>\n",
       "      <td>95.82</td>\n",
       "      <td>96.95</td>\n",
       "      <td>79648421</td>\n",
       "    </tr>\n",
       "    <tr>\n",
       "      <th>45683</th>\n",
       "      <td>XOM</td>\n",
       "      <td>2024-01-26</td>\n",
       "      <td>96.70</td>\n",
       "      <td>103.08</td>\n",
       "      <td>95.77</td>\n",
       "      <td>103.00</td>\n",
       "      <td>95840552</td>\n",
       "    </tr>\n",
       "    <tr>\n",
       "      <th>45684</th>\n",
       "      <td>XOM</td>\n",
       "      <td>2024-02-02</td>\n",
       "      <td>102.98</td>\n",
       "      <td>104.88</td>\n",
       "      <td>101.61</td>\n",
       "      <td>101.97</td>\n",
       "      <td>101557866</td>\n",
       "    </tr>\n",
       "    <tr>\n",
       "      <th>45685</th>\n",
       "      <td>XOM</td>\n",
       "      <td>2024-02-05</td>\n",
       "      <td>101.45</td>\n",
       "      <td>102.38</td>\n",
       "      <td>100.50</td>\n",
       "      <td>101.55</td>\n",
       "      <td>17190890</td>\n",
       "    </tr>\n",
       "  </tbody>\n",
       "</table>\n",
       "<p>45686 rows × 7 columns</p>\n",
       "</div>"
      ],
      "text/plain": [
       "      Ticker        Date  Open_Price  High_Price  Low_Price  Close_Price  \\\n",
       "0        AAL  2005-10-07       20.90       23.00      20.90        22.15   \n",
       "1        AAL  2005-10-14       22.28       22.40      21.40        22.27   \n",
       "2        AAL  2005-10-21       22.15       22.42      20.85        21.96   \n",
       "3        AAL  2005-10-28       22.01       23.90      21.70        23.90   \n",
       "4        AAL  2005-11-04       24.00       29.00      24.00        28.80   \n",
       "...      ...         ...         ...         ...        ...          ...   \n",
       "45681    XOM  2024-01-12      100.73      101.29      98.16        99.95   \n",
       "45682    XOM  2024-01-19       99.82      100.01      95.82        96.95   \n",
       "45683    XOM  2024-01-26       96.70      103.08      95.77       103.00   \n",
       "45684    XOM  2024-02-02      102.98      104.88     101.61       101.97   \n",
       "45685    XOM  2024-02-05      101.45      102.38     100.50       101.55   \n",
       "\n",
       "          Volume  \n",
       "0       16350134  \n",
       "1        9746113  \n",
       "2       14218231  \n",
       "3        9263807  \n",
       "4       16788473  \n",
       "...          ...  \n",
       "45681   94947905  \n",
       "45682   79648421  \n",
       "45683   95840552  \n",
       "45684  101557866  \n",
       "45685   17190890  \n",
       "\n",
       "[45686 rows x 7 columns]"
      ]
     },
     "execution_count": 10,
     "metadata": {},
     "output_type": "execute_result"
    }
   ],
   "source": [
    "clean_df"
   ]
  },
  {
   "cell_type": "code",
   "execution_count": 11,
   "metadata": {},
   "outputs": [
    {
     "name": "stdout",
     "output_type": "stream",
     "text": [
      "Dataframe Shape:  (45686, 7)\n"
     ]
    },
    {
     "data": {
      "text/plain": [
       "False"
      ]
     },
     "execution_count": 11,
     "metadata": {},
     "output_type": "execute_result"
    }
   ],
   "source": [
    "#check null values\n",
    "print('Dataframe Shape: ', clean_df. shape)\n",
    "\n",
    "missing_values = clean_df.isna().any().any()\n",
    "missing_values "
   ]
  },
  {
   "cell_type": "code",
   "execution_count": 12,
   "metadata": {},
   "outputs": [],
   "source": [
    "#adjust datetime\n",
    "\n",
    "import datetime\n",
    "\n",
    "def str_to_datetime(s):\n",
    "    split =s.split('-')\n",
    "    year,month,day=int(split[0]),int(split[1]),int(split[2])\n",
    "\n",
    "    return datetime.datetime(year=year,month=month,day=day)\n",
    "\n",
    "\n"
   ]
  },
  {
   "cell_type": "code",
   "execution_count": 13,
   "metadata": {},
   "outputs": [],
   "source": [
    "clean_df['Date']=clean_df['Date'].apply(str_to_datetime)\n",
    "clean_df['Date']\n",
    "clean_df.index=clean_df.pop('Date')"
   ]
  },
  {
   "cell_type": "code",
   "execution_count": 14,
   "metadata": {},
   "outputs": [
    {
     "data": {
      "text/html": [
       "<div>\n",
       "<style scoped>\n",
       "    .dataframe tbody tr th:only-of-type {\n",
       "        vertical-align: middle;\n",
       "    }\n",
       "\n",
       "    .dataframe tbody tr th {\n",
       "        vertical-align: top;\n",
       "    }\n",
       "\n",
       "    .dataframe thead th {\n",
       "        text-align: right;\n",
       "    }\n",
       "</style>\n",
       "<table border=\"1\" class=\"dataframe\">\n",
       "  <thead>\n",
       "    <tr style=\"text-align: right;\">\n",
       "      <th></th>\n",
       "      <th>Ticker</th>\n",
       "      <th>Open_Price</th>\n",
       "      <th>High_Price</th>\n",
       "      <th>Low_Price</th>\n",
       "      <th>Close_Price</th>\n",
       "      <th>Volume</th>\n",
       "    </tr>\n",
       "    <tr>\n",
       "      <th>Date</th>\n",
       "      <th></th>\n",
       "      <th></th>\n",
       "      <th></th>\n",
       "      <th></th>\n",
       "      <th></th>\n",
       "      <th></th>\n",
       "    </tr>\n",
       "  </thead>\n",
       "  <tbody>\n",
       "    <tr>\n",
       "      <th>1999-11-12</th>\n",
       "      <td>AAPL</td>\n",
       "      <td>87.75</td>\n",
       "      <td>97.73</td>\n",
       "      <td>86.75</td>\n",
       "      <td>90.62</td>\n",
       "      <td>25776200</td>\n",
       "    </tr>\n",
       "    <tr>\n",
       "      <th>1999-11-19</th>\n",
       "      <td>AAPL</td>\n",
       "      <td>89.62</td>\n",
       "      <td>94.75</td>\n",
       "      <td>88.06</td>\n",
       "      <td>92.44</td>\n",
       "      <td>13711000</td>\n",
       "    </tr>\n",
       "    <tr>\n",
       "      <th>1999-11-26</th>\n",
       "      <td>AAPL</td>\n",
       "      <td>91.75</td>\n",
       "      <td>95.50</td>\n",
       "      <td>88.50</td>\n",
       "      <td>95.06</td>\n",
       "      <td>9757600</td>\n",
       "    </tr>\n",
       "    <tr>\n",
       "      <th>1999-12-03</th>\n",
       "      <td>AAPL</td>\n",
       "      <td>94.25</td>\n",
       "      <td>115.56</td>\n",
       "      <td>93.25</td>\n",
       "      <td>115.00</td>\n",
       "      <td>28046300</td>\n",
       "    </tr>\n",
       "    <tr>\n",
       "      <th>1999-12-10</th>\n",
       "      <td>AAPL</td>\n",
       "      <td>114.56</td>\n",
       "      <td>118.00</td>\n",
       "      <td>99.00</td>\n",
       "      <td>103.00</td>\n",
       "      <td>25152800</td>\n",
       "    </tr>\n",
       "    <tr>\n",
       "      <th>...</th>\n",
       "      <td>...</td>\n",
       "      <td>...</td>\n",
       "      <td>...</td>\n",
       "      <td>...</td>\n",
       "      <td>...</td>\n",
       "      <td>...</td>\n",
       "    </tr>\n",
       "    <tr>\n",
       "      <th>2024-01-05</th>\n",
       "      <td>AAPL</td>\n",
       "      <td>187.15</td>\n",
       "      <td>188.44</td>\n",
       "      <td>180.17</td>\n",
       "      <td>181.18</td>\n",
       "      <td>275083628</td>\n",
       "    </tr>\n",
       "    <tr>\n",
       "      <th>2024-01-12</th>\n",
       "      <td>AAPL</td>\n",
       "      <td>182.09</td>\n",
       "      <td>187.05</td>\n",
       "      <td>181.50</td>\n",
       "      <td>185.92</td>\n",
       "      <td>238385377</td>\n",
       "    </tr>\n",
       "    <tr>\n",
       "      <th>2024-01-19</th>\n",
       "      <td>AAPL</td>\n",
       "      <td>182.16</td>\n",
       "      <td>191.95</td>\n",
       "      <td>180.30</td>\n",
       "      <td>191.56</td>\n",
       "      <td>259829213</td>\n",
       "    </tr>\n",
       "    <tr>\n",
       "      <th>2024-01-26</th>\n",
       "      <td>AAPL</td>\n",
       "      <td>192.30</td>\n",
       "      <td>196.38</td>\n",
       "      <td>191.94</td>\n",
       "      <td>192.42</td>\n",
       "      <td>255368848</td>\n",
       "    </tr>\n",
       "    <tr>\n",
       "      <th>2024-02-02</th>\n",
       "      <td>AAPL</td>\n",
       "      <td>192.01</td>\n",
       "      <td>192.20</td>\n",
       "      <td>179.25</td>\n",
       "      <td>185.85</td>\n",
       "      <td>325909883</td>\n",
       "    </tr>\n",
       "  </tbody>\n",
       "</table>\n",
       "<p>1265 rows × 6 columns</p>\n",
       "</div>"
      ],
      "text/plain": [
       "           Ticker  Open_Price  High_Price  Low_Price  Close_Price     Volume\n",
       "Date                                                                        \n",
       "1999-11-12   AAPL       87.75       97.73      86.75        90.62   25776200\n",
       "1999-11-19   AAPL       89.62       94.75      88.06        92.44   13711000\n",
       "1999-11-26   AAPL       91.75       95.50      88.50        95.06    9757600\n",
       "1999-12-03   AAPL       94.25      115.56      93.25       115.00   28046300\n",
       "1999-12-10   AAPL      114.56      118.00      99.00       103.00   25152800\n",
       "...           ...         ...         ...        ...          ...        ...\n",
       "2024-01-05   AAPL      187.15      188.44     180.17       181.18  275083628\n",
       "2024-01-12   AAPL      182.09      187.05     181.50       185.92  238385377\n",
       "2024-01-19   AAPL      182.16      191.95     180.30       191.56  259829213\n",
       "2024-01-26   AAPL      192.30      196.38     191.94       192.42  255368848\n",
       "2024-02-02   AAPL      192.01      192.20     179.25       185.85  325909883\n",
       "\n",
       "[1265 rows x 6 columns]"
      ]
     },
     "execution_count": 14,
     "metadata": {},
     "output_type": "execute_result"
    }
   ],
   "source": [
    "# Filter DataFrame for the desired symbol\n",
    "AAPL_df = clean_df[clean_df['Ticker'] == 'AAPL']\n",
    "AAPL_df"
   ]
  },
  {
   "cell_type": "code",
   "execution_count": 15,
   "metadata": {},
   "outputs": [
    {
     "data": {
      "image/png": "[encoded data removed]",
      "text/plain": [
       "<Figure size 640x480 with 1 Axes>"
      ]
     },
     "metadata": {},
     "output_type": "display_data"
    }
   ],
   "source": [
    "\n",
    "# Plot closing prices\n",
    "AAPL_df['Close_Price'].plot()\n",
    "# # Add labels and title\n",
    "plt.xlabel('Date')\n",
    "plt.ylabel('Close_Price')\n",
    "plt.title('Close Prices for AAPL')\n",
    "# Show plot\n",
    "plt.show()"
   ]
  },
  {
   "cell_type": "code",
   "execution_count": 16,
   "metadata": {},
   "outputs": [
    {
     "data": {
      "text/html": [
       "<div>\n",
       "<style scoped>\n",
       "    .dataframe tbody tr th:only-of-type {\n",
       "        vertical-align: middle;\n",
       "    }\n",
       "\n",
       "    .dataframe tbody tr th {\n",
       "        vertical-align: top;\n",
       "    }\n",
       "\n",
       "    .dataframe thead th {\n",
       "        text-align: right;\n",
       "    }\n",
       "</style>\n",
       "<table border=\"1\" class=\"dataframe\">\n",
       "  <thead>\n",
       "    <tr style=\"text-align: right;\">\n",
       "      <th></th>\n",
       "      <th>Open_Price</th>\n",
       "      <th>High_Price</th>\n",
       "      <th>Low_Price</th>\n",
       "      <th>Volume</th>\n",
       "    </tr>\n",
       "    <tr>\n",
       "      <th>Date</th>\n",
       "      <th></th>\n",
       "      <th></th>\n",
       "      <th></th>\n",
       "      <th></th>\n",
       "    </tr>\n",
       "  </thead>\n",
       "  <tbody>\n",
       "    <tr>\n",
       "      <th>1999-11-12</th>\n",
       "      <td>0.108741</td>\n",
       "      <td>0.121630</td>\n",
       "      <td>0.108724</td>\n",
       "      <td>0.017455</td>\n",
       "    </tr>\n",
       "    <tr>\n",
       "      <th>1999-11-19</th>\n",
       "      <td>0.111466</td>\n",
       "      <td>0.117320</td>\n",
       "      <td>0.110648</td>\n",
       "      <td>0.007061</td>\n",
       "    </tr>\n",
       "    <tr>\n",
       "      <th>1999-11-26</th>\n",
       "      <td>0.114570</td>\n",
       "      <td>0.118405</td>\n",
       "      <td>0.111294</td>\n",
       "      <td>0.003655</td>\n",
       "    </tr>\n",
       "    <tr>\n",
       "      <th>1999-12-03</th>\n",
       "      <td>0.118213</td>\n",
       "      <td>0.147417</td>\n",
       "      <td>0.118270</td>\n",
       "      <td>0.019410</td>\n",
       "    </tr>\n",
       "    <tr>\n",
       "      <th>1999-12-10</th>\n",
       "      <td>0.147810</td>\n",
       "      <td>0.150946</td>\n",
       "      <td>0.126715</td>\n",
       "      <td>0.016918</td>\n",
       "    </tr>\n",
       "  </tbody>\n",
       "</table>\n",
       "</div>"
      ],
      "text/plain": [
       "            Open_Price  High_Price  Low_Price    Volume\n",
       "Date                                                   \n",
       "1999-11-12    0.108741    0.121630   0.108724  0.017455\n",
       "1999-11-19    0.111466    0.117320   0.110648  0.007061\n",
       "1999-11-26    0.114570    0.118405   0.111294  0.003655\n",
       "1999-12-03    0.118213    0.147417   0.118270  0.019410\n",
       "1999-12-10    0.147810    0.150946   0.126715  0.016918"
      ]
     },
     "execution_count": 16,
     "metadata": {},
     "output_type": "execute_result"
    }
   ],
   "source": [
    "#Set Target Variable\n",
    "AAPL_output = AAPL_df['Close_Price']\n",
    "#Selecting the Features \n",
    "features = ['Open_Price','High_Price','Low_Price','Volume']\n",
    "\n",
    "#Scaling\n",
    "scaler = MinMaxScaler()\n",
    "feature_transform = scaler.fit_transform(AAPL_df[features])\n",
    "feature_transform= pd.DataFrame(columns=features, data=feature_transform, index=AAPL_df.index)\n",
    "feature_transform.head()"
   ]
  },
  {
   "cell_type": "code",
   "execution_count": 17,
   "metadata": {},
   "outputs": [],
   "source": [
    " \n",
    "#Splitting to Training set and Test set\n",
    "timesplit= TimeSeriesSplit(n_splits=10)\n",
    "for train_index, test_index in timesplit.split(feature_transform):\n",
    "        X_train, X_test = feature_transform[:len(train_index)], feature_transform[len(train_index): (len(train_index)+len(test_index))]\n",
    "        y_train, y_test = AAPL_output[:len(train_index)].values.ravel(), AAPL_output[len(train_index): (len(train_index)+len(test_index))].values.ravel()"
   ]
  },
  {
   "cell_type": "code",
   "execution_count": 18,
   "metadata": {},
   "outputs": [],
   "source": [
    "#Process the data for LSTM\n",
    "trainX =np.array(X_train)\n",
    "testX =np.array(X_test)\n",
    "X_train = trainX.reshape(X_train.shape[0], 1, X_train.shape[1])\n",
    "X_test = testX.reshape(X_test.shape[0], 1, X_test.shape[1])"
   ]
  },
  {
   "cell_type": "code",
   "execution_count": 19,
   "metadata": {},
   "outputs": [],
   "source": [
    "#Building the LSTM Model\n",
    "lstm = Sequential()\n",
    "lstm.add(LSTM(32, input_shape=(1, trainX.shape[1]), activation='relu', return_sequences=False))\n",
    "lstm.add(Dense(1))\n",
    "lstm.compile(loss='mean_squared_error', optimizer='adam')\n"
   ]
  },
  {
   "cell_type": "code",
   "execution_count": 20,
   "metadata": {},
   "outputs": [
    {
     "name": "stdout",
     "output_type": "stream",
     "text": [
      "Requirement already satisfied: pydot in c:\\users\\evelyn\\anaconda3\\envs\\tf\\lib\\site-packages (1.2.3)Note: you may need to restart the kernel to use updated packages.\n",
      "\n",
      "Requirement already satisfied: pyparsing>=2.1.4 in c:\\users\\evelyn\\anaconda3\\envs\\tf\\lib\\site-packages (from pydot) (3.1.1)\n"
     ]
    }
   ],
   "source": [
    "pip install pydot"
   ]
  },
  {
   "cell_type": "code",
   "execution_count": 21,
   "metadata": {},
   "outputs": [
    {
     "name": "stdout",
     "output_type": "stream",
     "text": [
      "Requirement already satisfied: graphviz in c:\\users\\evelyn\\anaconda3\\envs\\tf\\lib\\site-packages (0.20.1)\n",
      "Note: you may need to restart the kernel to use updated packages.\n"
     ]
    }
   ],
   "source": [
    "pip install graphviz "
   ]
  },
  {
   "cell_type": "code",
   "execution_count": 22,
   "metadata": {},
   "outputs": [
    {
     "name": "stdout",
     "output_type": "stream",
     "text": [
      "Requirement already satisfied: pydot-ng in c:\\users\\evelyn\\anaconda3\\envs\\tf\\lib\\site-packages (2.0.0)\n",
      "Requirement already satisfied: pyparsing>=2.0.1 in c:\\users\\evelyn\\anaconda3\\envs\\tf\\lib\\site-packages (from pydot-ng) (3.1.1)\n",
      "Note: you may need to restart the kernel to use updated packages.\n"
     ]
    }
   ],
   "source": [
    "pip install pydot-ng"
   ]
  },
  {
   "cell_type": "code",
   "execution_count": 23,
   "metadata": {},
   "outputs": [
    {
     "name": "stdout",
     "output_type": "stream",
     "text": [
      "You must install pydot (`pip install pydot`) and install graphviz (see instructions at https://graphviz.gitlab.io/download/) for plot_model to work.\n"
     ]
    }
   ],
   "source": [
    "plot_model(lstm, show_shapes=True, show_layer_names=True)"
   ]
  },
  {
   "cell_type": "code",
   "execution_count": 24,
   "metadata": {},
   "outputs": [
    {
     "name": "stdout",
     "output_type": "stream",
     "text": [
      "Epoch 1/100\n",
      "144/144 [==============================] - 1s 1ms/step - loss: 54599.7930\n",
      "Epoch 2/100\n",
      "144/144 [==============================] - 0s 1ms/step - loss: 54269.8320\n",
      "Epoch 3/100\n",
      "144/144 [==============================] - 0s 1ms/step - loss: 53624.6133\n",
      "Epoch 4/100\n",
      "144/144 [==============================] - 0s 1ms/step - loss: 52544.5742\n",
      "Epoch 5/100\n",
      "144/144 [==============================] - 0s 1ms/step - loss: 50992.8047\n",
      "Epoch 6/100\n",
      "144/144 [==============================] - 0s 1ms/step - loss: 49013.7930\n",
      "Epoch 7/100\n",
      "144/144 [==============================] - 0s 1ms/step - loss: 46697.5000\n",
      "Epoch 8/100\n",
      "144/144 [==============================] - 0s 1ms/step - loss: 44144.9062\n",
      "Epoch 9/100\n",
      "144/144 [==============================] - 0s 1ms/step - loss: 41449.1445\n",
      "Epoch 10/100\n",
      "144/144 [==============================] - 0s 1ms/step - loss: 38689.4648\n",
      "Epoch 11/100\n",
      "144/144 [==============================] - 0s 1ms/step - loss: 35930.8086\n",
      "Epoch 12/100\n",
      "144/144 [==============================] - 0s 1ms/step - loss: 33225.3672\n",
      "Epoch 13/100\n",
      "144/144 [==============================] - 0s 1ms/step - loss: 30614.1914\n",
      "Epoch 14/100\n",
      "144/144 [==============================] - 0s 1ms/step - loss: 28128.7852\n",
      "Epoch 15/100\n",
      "144/144 [==============================] - 0s 1ms/step - loss: 25792.2617\n",
      "Epoch 16/100\n",
      "144/144 [==============================] - 0s 1ms/step - loss: 23620.3398\n",
      "Epoch 17/100\n",
      "144/144 [==============================] - 0s 1ms/step - loss: 21622.2578\n",
      "Epoch 18/100\n",
      "144/144 [==============================] - 0s 2ms/step - loss: 19801.4668\n",
      "Epoch 19/100\n",
      "144/144 [==============================] - 0s 2ms/step - loss: 18156.4395\n",
      "Epoch 20/100\n",
      "144/144 [==============================] - 0s 2ms/step - loss: 16681.3574\n",
      "Epoch 21/100\n",
      "144/144 [==============================] - 0s 3ms/step - loss: 15366.8350\n",
      "Epoch 22/100\n",
      "144/144 [==============================] - 1s 4ms/step - loss: 14200.6650\n",
      "Epoch 23/100\n",
      "144/144 [==============================] - 1s 4ms/step - loss: 13168.5225\n",
      "Epoch 24/100\n",
      "144/144 [==============================] - 0s 3ms/step - loss: 12254.6426\n",
      "Epoch 25/100\n",
      "144/144 [==============================] - 0s 2ms/step - loss: 11442.5557\n",
      "Epoch 26/100\n",
      "144/144 [==============================] - 0s 2ms/step - loss: 10715.6787\n",
      "Epoch 27/100\n",
      "144/144 [==============================] - 0s 2ms/step - loss: 10057.9482\n",
      "Epoch 28/100\n",
      "144/144 [==============================] - 0s 2ms/step - loss: 9454.3789\n",
      "Epoch 29/100\n",
      "144/144 [==============================] - 0s 2ms/step - loss: 8891.4990\n",
      "Epoch 30/100\n",
      "144/144 [==============================] - 0s 1ms/step - loss: 8357.7510\n",
      "Epoch 31/100\n",
      "144/144 [==============================] - 0s 2ms/step - loss: 7843.7480\n",
      "Epoch 32/100\n",
      "144/144 [==============================] - 0s 2ms/step - loss: 7342.4185\n",
      "Epoch 33/100\n",
      "144/144 [==============================] - 0s 2ms/step - loss: 6849.0308\n",
      "Epoch 34/100\n",
      "144/144 [==============================] - 0s 2ms/step - loss: 6361.0967\n",
      "Epoch 35/100\n",
      "144/144 [==============================] - 0s 1ms/step - loss: 5878.1821\n",
      "Epoch 36/100\n",
      "144/144 [==============================] - 0s 2ms/step - loss: 5401.5571\n",
      "Epoch 37/100\n",
      "144/144 [==============================] - 0s 1ms/step - loss: 4933.7588\n",
      "Epoch 38/100\n",
      "144/144 [==============================] - 0s 1ms/step - loss: 4478.0742\n",
      "Epoch 39/100\n",
      "144/144 [==============================] - 0s 2ms/step - loss: 4038.0417\n",
      "Epoch 40/100\n",
      "144/144 [==============================] - 0s 2ms/step - loss: 3617.0386\n",
      "Epoch 41/100\n",
      "144/144 [==============================] - 0s 2ms/step - loss: 3218.0093\n",
      "Epoch 42/100\n",
      "144/144 [==============================] - 0s 1ms/step - loss: 2843.3198\n",
      "Epoch 43/100\n",
      "144/144 [==============================] - 0s 1ms/step - loss: 2494.7161\n",
      "Epoch 44/100\n",
      "144/144 [==============================] - 0s 2ms/step - loss: 2173.3672\n",
      "Epoch 45/100\n",
      "144/144 [==============================] - 0s 2ms/step - loss: 1879.9081\n",
      "Epoch 46/100\n",
      "144/144 [==============================] - 0s 2ms/step - loss: 1614.5092\n",
      "Epoch 47/100\n",
      "144/144 [==============================] - 0s 1ms/step - loss: 1376.9152\n",
      "Epoch 48/100\n",
      "144/144 [==============================] - 0s 2ms/step - loss: 1166.4978\n",
      "Epoch 49/100\n",
      "144/144 [==============================] - 0s 2ms/step - loss: 982.2888\n",
      "Epoch 50/100\n",
      "144/144 [==============================] - 0s 2ms/step - loss: 823.0131\n",
      "Epoch 51/100\n",
      "144/144 [==============================] - 0s 1ms/step - loss: 687.1301\n",
      "Epoch 52/100\n",
      "144/144 [==============================] - 0s 2ms/step - loss: 572.8718\n",
      "Epoch 53/100\n",
      "144/144 [==============================] - 0s 1ms/step - loss: 478.2906\n",
      "Epoch 54/100\n",
      "144/144 [==============================] - 0s 2ms/step - loss: 401.3078\n",
      "Epoch 55/100\n",
      "144/144 [==============================] - 0s 2ms/step - loss: 339.7732\n",
      "Epoch 56/100\n",
      "144/144 [==============================] - 0s 1ms/step - loss: 291.5251\n",
      "Epoch 57/100\n",
      "144/144 [==============================] - 0s 2ms/step - loss: 254.4525\n",
      "Epoch 58/100\n",
      "144/144 [==============================] - 0s 2ms/step - loss: 226.5560\n",
      "Epoch 59/100\n",
      "144/144 [==============================] - 0s 1ms/step - loss: 205.9994\n",
      "Epoch 60/100\n",
      "144/144 [==============================] - 0s 1ms/step - loss: 191.1537\n",
      "Epoch 61/100\n",
      "144/144 [==============================] - 0s 1ms/step - loss: 180.6248\n",
      "Epoch 62/100\n",
      "144/144 [==============================] - 0s 2ms/step - loss: 173.2632\n",
      "Epoch 63/100\n",
      "144/144 [==============================] - 0s 2ms/step - loss: 168.1568\n",
      "Epoch 64/100\n",
      "144/144 [==============================] - 0s 1ms/step - loss: 164.6122\n",
      "Epoch 65/100\n",
      "144/144 [==============================] - 0s 1ms/step - loss: 162.1204\n",
      "Epoch 66/100\n",
      "144/144 [==============================] - 0s 2ms/step - loss: 160.3234\n",
      "Epoch 67/100\n",
      "144/144 [==============================] - 0s 2ms/step - loss: 158.9776\n",
      "Epoch 68/100\n",
      "144/144 [==============================] - 0s 2ms/step - loss: 157.9241\n",
      "Epoch 69/100\n",
      "144/144 [==============================] - 0s 2ms/step - loss: 157.0609\n",
      "Epoch 70/100\n",
      "144/144 [==============================] - 0s 2ms/step - loss: 156.3251\n",
      "Epoch 71/100\n",
      "144/144 [==============================] - 0s 2ms/step - loss: 155.6782\n",
      "Epoch 72/100\n",
      "144/144 [==============================] - 0s 2ms/step - loss: 155.0968\n",
      "Epoch 73/100\n",
      "144/144 [==============================] - 0s 2ms/step - loss: 154.5665\n",
      "Epoch 74/100\n",
      "144/144 [==============================] - 0s 2ms/step - loss: 154.0779\n",
      "Epoch 75/100\n",
      "144/144 [==============================] - 0s 1ms/step - loss: 153.6242\n",
      "Epoch 76/100\n",
      "144/144 [==============================] - 0s 2ms/step - loss: 153.2009\n",
      "Epoch 77/100\n",
      "144/144 [==============================] - 0s 1ms/step - loss: 152.8036\n",
      "Epoch 78/100\n",
      "144/144 [==============================] - 0s 2ms/step - loss: 152.4292\n",
      "Epoch 79/100\n",
      "144/144 [==============================] - 0s 1ms/step - loss: 152.0748\n",
      "Epoch 80/100\n",
      "144/144 [==============================] - 0s 1ms/step - loss: 151.7377\n",
      "Epoch 81/100\n",
      "144/144 [==============================] - 0s 1ms/step - loss: 151.4152\n",
      "Epoch 82/100\n",
      "144/144 [==============================] - 0s 1ms/step - loss: 151.1055\n",
      "Epoch 83/100\n",
      "144/144 [==============================] - 0s 1ms/step - loss: 150.8066\n",
      "Epoch 84/100\n",
      "144/144 [==============================] - 0s 1ms/step - loss: 150.5166\n",
      "Epoch 85/100\n",
      "144/144 [==============================] - 0s 1ms/step - loss: 150.2342\n",
      "Epoch 86/100\n",
      "144/144 [==============================] - 0s 1ms/step - loss: 149.9580\n",
      "Epoch 87/100\n",
      "144/144 [==============================] - 0s 2ms/step - loss: 149.6867\n",
      "Epoch 88/100\n",
      "144/144 [==============================] - 0s 2ms/step - loss: 149.4194\n",
      "Epoch 89/100\n",
      "144/144 [==============================] - 0s 2ms/step - loss: 149.1552\n",
      "Epoch 90/100\n",
      "144/144 [==============================] - 0s 1ms/step - loss: 148.8932\n",
      "Epoch 91/100\n",
      "144/144 [==============================] - 0s 1ms/step - loss: 148.6328\n",
      "Epoch 92/100\n",
      "144/144 [==============================] - 0s 1ms/step - loss: 148.3732\n",
      "Epoch 93/100\n",
      "144/144 [==============================] - 0s 2ms/step - loss: 148.1141\n",
      "Epoch 94/100\n",
      "144/144 [==============================] - 0s 1ms/step - loss: 147.8549\n",
      "Epoch 95/100\n",
      "144/144 [==============================] - 0s 1ms/step - loss: 147.5949\n",
      "Epoch 96/100\n",
      "144/144 [==============================] - 0s 2ms/step - loss: 147.3340\n",
      "Epoch 97/100\n",
      "144/144 [==============================] - 0s 1ms/step - loss: 147.0718\n",
      "Epoch 98/100\n",
      "144/144 [==============================] - 0s 1ms/step - loss: 146.8078\n",
      "Epoch 99/100\n",
      "144/144 [==============================] - 0s 1ms/step - loss: 146.5417\n",
      "Epoch 100/100\n",
      "144/144 [==============================] - 0s 1ms/step - loss: 146.2731\n"
     ]
    }
   ],
   "source": [
    "history=lstm.fit(X_train, y_train, epochs=100, batch_size=8, verbose=1, shuffle=False)"
   ]
  },
  {
   "cell_type": "code",
   "execution_count": 25,
   "metadata": {},
   "outputs": [
    {
     "name": "stdout",
     "output_type": "stream",
     "text": [
      "4/4 [==============================] - 0s 2ms/step\n"
     ]
    }
   ],
   "source": [
    "#LSTM Prediction\n",
    "y_pred= lstm.predict(X_test)"
   ]
  },
  {
   "cell_type": "code",
   "execution_count": 26,
   "metadata": {},
   "outputs": [
    {
     "data": {
      "image/png": "[encoded data removed]",
      "text/plain": [
       "<Figure size 640x480 with 1 Axes>"
      ]
     },
     "metadata": {},
     "output_type": "display_data"
    }
   ],
   "source": [
    "#Predicted vs True Adj Close Value – LSTM\n",
    "plt.plot(y_test, label='True Value')\n",
    "plt.plot(y_pred, label='LSTM Value')\n",
    "plt.title('Prediction by LSTM')\n",
    "plt.xlabel('Time Scale')\n",
    "plt.ylabel('Scaled USD')\n",
    "plt.legend()\n",
    "plt.show()"
   ]
  },
  {
   "cell_type": "code",
   "execution_count": 27,
   "metadata": {},
   "outputs": [
    {
     "name": "stdout",
     "output_type": "stream",
     "text": [
      "Mean Absolute Error (MAE): 5.048144711701767\n",
      "Mean Squared Error (MSE): 44.58649850058402\n",
      "Root Mean Squared Error (RMSE): 6.677312221289642\n",
      "R-squared (R2) Score: 0.8591922418792073\n"
     ]
    },
    {
     "name": "stderr",
     "output_type": "stream",
     "text": [
      "c:\\Users\\Evelyn\\anaconda3\\envs\\tf\\lib\\site-packages\\sklearn\\metrics\\_regression.py:483: FutureWarning: 'squared' is deprecated in version 1.4 and will be removed in 1.6. To calculate the root mean squared error, use the function'root_mean_squared_error'.\n",
      "  warnings.warn(\n"
     ]
    }
   ],
   "source": [
    "from sklearn.metrics import mean_absolute_error, mean_squared_error, r2_score\n",
    "\n",
    "# 1. Performance Evaluation\n",
    "mae = mean_absolute_error(y_test, y_pred)\n",
    "mse = mean_squared_error(y_test, y_pred)\n",
    "rmse = mean_squared_error(y_test, y_pred, squared=False)\n",
    "r2 = r2_score(y_test, y_pred)\n",
    "\n",
    "print(\"Mean Absolute Error (MAE):\", mae)\n",
    "print(\"Mean Squared Error (MSE):\", mse)\n",
    "print(\"Root Mean Squared Error (RMSE):\", rmse)\n",
    "print(\"R-squared (R2) Score:\", r2)"
   ]
  }
 ],
 "metadata": {
  "kernelspec": {
   "display_name": "Python 3",
   "language": "python",
   "name": "python3"
  },
  "language_info": {
   "codemirror_mode": {
    "name": "ipython",
    "version": 3
   },
   "file_extension": ".py",
   "mimetype": "text/x-python",
   "name": "python",
   "nbconvert_exporter": "python",
   "pygments_lexer": "ipython3",
   "version": "3.9.18"
  }
 },
 "nbformat": 4,
 "nbformat_minor": 2
}
